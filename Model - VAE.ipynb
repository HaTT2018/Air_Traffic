{
 "cells": [
  {
   "cell_type": "code",
   "execution_count": 5,
   "id": "cfcdc5e7",
   "metadata": {},
   "outputs": [],
   "source": [
    "import numpy as np\n",
    "import pandas as pd\n",
    "import matplotlib.pyplot as plt\n",
    "import air_traff_utils as atu\n",
    "import geopandas as gpd\n",
    "\n",
    "import ipdb"
   ]
  },
  {
   "cell_type": "code",
   "execution_count": 2,
   "id": "7a08fd75",
   "metadata": {},
   "outputs": [],
   "source": [
    "atu.setup_seed(12)"
   ]
  },
  {
   "cell_type": "markdown",
   "id": "a4960554",
   "metadata": {},
   "source": [
    "# Loading Data"
   ]
  },
  {
   "cell_type": "code",
   "execution_count": 186,
   "id": "a440f885",
   "metadata": {},
   "outputs": [],
   "source": [
    "us_CSA = gpd.read_file('./data/us_CSA.shp')\n",
    "OD = pd.read_csv('./outputs/201904_OD_CSA.csv', index_col=0).sort_index(axis=0).sort_index(axis=1)"
   ]
  },
  {
   "cell_type": "code",
   "execution_count": 187,
   "id": "8d942a11",
   "metadata": {},
   "outputs": [
    {
     "name": "stdout",
     "output_type": "stream",
     "text": [
      "(24, 26)\n"
     ]
    },
    {
     "data": {
      "text/html": [
       "<div>\n",
       "<style scoped>\n",
       "    .dataframe tbody tr th:only-of-type {\n",
       "        vertical-align: middle;\n",
       "    }\n",
       "\n",
       "    .dataframe tbody tr th {\n",
       "        vertical-align: top;\n",
       "    }\n",
       "\n",
       "    .dataframe thead th {\n",
       "        text-align: right;\n",
       "    }\n",
       "</style>\n",
       "<table border=\"1\" class=\"dataframe\">\n",
       "  <thead>\n",
       "    <tr style=\"text-align: right;\">\n",
       "      <th></th>\n",
       "      <th>TotPop</th>\n",
       "      <th>CSA</th>\n",
       "      <th>CBSA</th>\n",
       "      <th>CBSA_Name</th>\n",
       "      <th>AutoOwn0</th>\n",
       "      <th>AutoOwn1</th>\n",
       "      <th>AutoOwn2p</th>\n",
       "      <th>TotEmp</th>\n",
       "      <th>E_LowWageW</th>\n",
       "      <th>E_MedWageW</th>\n",
       "      <th>...</th>\n",
       "      <th>D4C</th>\n",
       "      <th>D4D</th>\n",
       "      <th>D5AR</th>\n",
       "      <th>D5AE</th>\n",
       "      <th>NatWalkInd</th>\n",
       "      <th>INTPTLAT</th>\n",
       "      <th>INTPTLON</th>\n",
       "      <th>CSA_Name</th>\n",
       "      <th>if_plot</th>\n",
       "      <th>geometry</th>\n",
       "    </tr>\n",
       "  </thead>\n",
       "  <tbody>\n",
       "    <tr>\n",
       "      <th>8</th>\n",
       "      <td>6584708</td>\n",
       "      <td>122.0</td>\n",
       "      <td>29300.0</td>\n",
       "      <td>LaGrange, GA-AL</td>\n",
       "      <td>142257</td>\n",
       "      <td>759558</td>\n",
       "      <td>1449909</td>\n",
       "      <td>2970375</td>\n",
       "      <td>668868</td>\n",
       "      <td>969644</td>\n",
       "      <td>...</td>\n",
       "      <td>-60276.863137</td>\n",
       "      <td>-60268.179268</td>\n",
       "      <td>310871248</td>\n",
       "      <td>224466891</td>\n",
       "      <td>8.498581</td>\n",
       "      <td>33.834001</td>\n",
       "      <td>-84.305803</td>\n",
       "      <td>Atlanta--Athens-Clarke County--Sandy Springs, ...</td>\n",
       "      <td>1</td>\n",
       "      <td>POLYGON ((-85.16585 32.80850, -85.16563 32.808...</td>\n",
       "    </tr>\n",
       "    <tr>\n",
       "      <th>9</th>\n",
       "      <td>4727034</td>\n",
       "      <td>429.0</td>\n",
       "      <td>38060.0</td>\n",
       "      <td>Phoenix-Mesa-Chandler, AZ</td>\n",
       "      <td>100799</td>\n",
       "      <td>609540</td>\n",
       "      <td>969422</td>\n",
       "      <td>2019049</td>\n",
       "      <td>428811</td>\n",
       "      <td>720918</td>\n",
       "      <td>...</td>\n",
       "      <td>-33643.860240</td>\n",
       "      <td>-33629.285213</td>\n",
       "      <td>262427439</td>\n",
       "      <td>204143835</td>\n",
       "      <td>10.838547</td>\n",
       "      <td>33.462312</td>\n",
       "      <td>-111.985821</td>\n",
       "      <td>Phoenix-Mesa, AZ</td>\n",
       "      <td>1</td>\n",
       "      <td>POLYGON ((-112.20470 32.50672, -112.20791 32.5...</td>\n",
       "    </tr>\n",
       "  </tbody>\n",
       "</table>\n",
       "<p>2 rows × 26 columns</p>\n",
       "</div>"
      ],
      "text/plain": [
       "    TotPop    CSA     CBSA                  CBSA_Name  AutoOwn0  AutoOwn1  \\\n",
       "8  6584708  122.0  29300.0            LaGrange, GA-AL    142257    759558   \n",
       "9  4727034  429.0  38060.0  Phoenix-Mesa-Chandler, AZ    100799    609540   \n",
       "\n",
       "   AutoOwn2p   TotEmp  E_LowWageW  E_MedWageW  ...           D4C  \\\n",
       "8    1449909  2970375      668868      969644  ... -60276.863137   \n",
       "9     969422  2019049      428811      720918  ... -33643.860240   \n",
       "\n",
       "            D4D       D5AR       D5AE  NatWalkInd   INTPTLAT    INTPTLON  \\\n",
       "8 -60268.179268  310871248  224466891    8.498581  33.834001  -84.305803   \n",
       "9 -33629.285213  262427439  204143835   10.838547  33.462312 -111.985821   \n",
       "\n",
       "                                            CSA_Name  if_plot  \\\n",
       "8  Atlanta--Athens-Clarke County--Sandy Springs, ...        1   \n",
       "9                                   Phoenix-Mesa, AZ        1   \n",
       "\n",
       "                                            geometry  \n",
       "8  POLYGON ((-85.16585 32.80850, -85.16563 32.808...  \n",
       "9  POLYGON ((-112.20470 32.50672, -112.20791 32.5...  \n",
       "\n",
       "[2 rows x 26 columns]"
      ]
     },
     "execution_count": 187,
     "metadata": {},
     "output_type": "execute_result"
    }
   ],
   "source": [
    "us_CSA_use = us_CSA.loc[us_CSA['if_plot']==1]\n",
    "print(us_CSA_use.shape)\n",
    "us_CSA_use.head(2)"
   ]
  },
  {
   "cell_type": "code",
   "execution_count": 188,
   "id": "290e4f53",
   "metadata": {
    "scrolled": true
   },
   "outputs": [
    {
     "name": "stdout",
     "output_type": "stream",
     "text": [
      "(24, 24)\n"
     ]
    },
    {
     "data": {
      "text/plain": [
       "<matplotlib.image.AxesImage at 0x7ff1b0227c10>"
      ]
     },
     "execution_count": 188,
     "metadata": {},
     "output_type": "execute_result"
    },
    {
     "data": {
      "image/png": "[encoded data removed]",
      "text/plain": [
       "<Figure size 432x288 with 1 Axes>"
      ]
     },
     "metadata": {
      "needs_background": "light"
     },
     "output_type": "display_data"
    }
   ],
   "source": [
    "print(OD.shape)\n",
    "plt.imshow(OD)"
   ]
  },
  {
   "cell_type": "markdown",
   "id": "0a69f261",
   "metadata": {},
   "source": [
    "# Prepare Feature Pairs\n",
    "### Each two OD pair has its feature combination, [feature of loc1, feature of loc2, distance]"
   ]
  },
  {
   "cell_type": "code",
   "execution_count": null,
   "id": "4b985f46",
   "metadata": {},
   "outputs": [],
   "source": []
  },
  {
   "cell_type": "markdown",
   "id": "c9cbafd1",
   "metadata": {},
   "source": [
    "# Define VAE Model Structure"
   ]
  },
  {
   "cell_type": "code",
   "execution_count": 189,
   "id": "7b6aedd8",
   "metadata": {},
   "outputs": [],
   "source": [
    "import torch\n",
    "from torchvision import datasets, transforms\n",
    "import torch.nn as nn\n",
    "import torch.optim as optim\n",
    "from torchinfo import summary\n",
    "from torch.utils.data import TensorDataset"
   ]
  },
  {
   "cell_type": "code",
   "execution_count": 190,
   "id": "c0f70b6d",
   "metadata": {},
   "outputs": [],
   "source": [
    "# Model specification\n",
    "class VAE_FC_Net(nn.Module):\n",
    "    def __init__(self, OD_size, feature_dim=18+18+1, dropout_p=0.35):\n",
    "        super(VAE_FC_Net, self).__init__()\n",
    "        self.OD_size = OD_size\n",
    "        self.feature_dim = feature_dim\n",
    "        self.dropout_p = dropout_p\n",
    "        \n",
    "        self.encoder = nn.Sequential(\n",
    "            nn.Linear(OD_size, 256),\n",
    "            nn.ReLU(),\n",
    "            nn.Dropout(dropout_p),\n",
    "            \n",
    "            nn.Linear(256, 256),\n",
    "            nn.ReLU(),\n",
    "            nn.Dropout(dropout_p),\n",
    "            \n",
    "            nn.Linear(256, 256),\n",
    "            nn.ReLU(),\n",
    "            nn.Dropout(dropout_p),\n",
    "            \n",
    "            nn.Linear(256, 256),\n",
    "            nn.ReLU(),\n",
    "            nn.Dropout(dropout_p),\n",
    "            \n",
    "            nn.Linear(256, 256),\n",
    "            nn.ReLU(),\n",
    "            nn.Dropout(dropout_p),\n",
    "            \n",
    "            nn.Linear(256, 256),\n",
    "            nn.ReLU(),\n",
    "            nn.Dropout(dropout_p),\n",
    "            \n",
    "            nn.Linear(256, 128),\n",
    "            nn.ReLU(),\n",
    "            nn.Dropout(dropout_p),\n",
    "            \n",
    "            nn.Linear(128, 128),\n",
    "            nn.ReLU(),\n",
    "            nn.Dropout(dropout_p),\n",
    "            \n",
    "            nn.Linear(128, 128),\n",
    "            nn.ReLU(),\n",
    "            nn.Dropout(dropout_p),\n",
    "            \n",
    "            nn.Linear(128, 128),\n",
    "            nn.ReLU(),\n",
    "            nn.Dropout(dropout_p),\n",
    "            \n",
    "            nn.Linear(128, 128),\n",
    "            nn.ReLU(),\n",
    "            nn.Dropout(dropout_p),\n",
    "            \n",
    "            nn.Linear(128, 128),\n",
    "            nn.ReLU(),\n",
    "            nn.Dropout(dropout_p),\n",
    "            \n",
    "            nn.Linear(128, 128),\n",
    "            nn.ReLU(),\n",
    "            nn.Dropout(dropout_p),\n",
    "            \n",
    "            nn.Linear(128, 128),\n",
    "            nn.ReLU(),\n",
    "            nn.Dropout(dropout_p),\n",
    "            \n",
    "            nn.Linear(128, feature_dim*2),\n",
    "            # feature_dim is multiplied by 2 becasue there are mean and variance\n",
    "            nn.ReLU(),\n",
    "            nn.Dropout(dropout_p)\n",
    "        )\n",
    "        \n",
    "        self.decoder = nn.Sequential(\n",
    "            nn.Linear(feature_dim, 128),\n",
    "            nn.ReLU(),\n",
    "            nn.Dropout(dropout_p),\n",
    "            \n",
    "            nn.Linear(128, 128),\n",
    "            nn.ReLU(),\n",
    "            nn.Dropout(dropout_p),\n",
    "            \n",
    "            nn.Linear(128, 128),\n",
    "            nn.ReLU(),\n",
    "            nn.Dropout(dropout_p),\n",
    "            \n",
    "            nn.Linear(128, 128),\n",
    "            nn.ReLU(),\n",
    "            nn.Dropout(dropout_p),\n",
    "            \n",
    "            nn.Linear(128, 128),\n",
    "            nn.ReLU(),\n",
    "            nn.Dropout(dropout_p),\n",
    "            \n",
    "            nn.Linear(128, 128),\n",
    "            nn.ReLU(),\n",
    "            nn.Dropout(dropout_p),\n",
    "            \n",
    "            nn.Linear(128, 128),\n",
    "            nn.ReLU(),\n",
    "            nn.Dropout(dropout_p),\n",
    "            \n",
    "            nn.Linear(128, 128),\n",
    "            nn.ReLU(),\n",
    "            nn.Dropout(dropout_p),\n",
    "            \n",
    "            nn.Linear(128, 256),\n",
    "            nn.ReLU(),\n",
    "            nn.Dropout(dropout_p),\n",
    "            \n",
    "            nn.Linear(256, 256),\n",
    "            nn.ReLU(),\n",
    "            nn.Dropout(dropout_p),\n",
    "            \n",
    "            nn.Linear(256, 256),\n",
    "            nn.ReLU(),\n",
    "            nn.Dropout(dropout_p),\n",
    "            \n",
    "            nn.Linear(256, 256),\n",
    "            nn.ReLU(),\n",
    "            nn.Dropout(dropout_p),\n",
    "            \n",
    "            nn.Linear(256, 256),\n",
    "            nn.ReLU(),\n",
    "            nn.Dropout(dropout_p),\n",
    "            \n",
    "            nn.Linear(256, 256),\n",
    "            nn.ReLU(),\n",
    "            nn.Dropout(dropout_p),\n",
    "            \n",
    "            nn.Linear(256, OD_size),\n",
    "            nn.ReLU()\n",
    "        )\n",
    "        \n",
    "        \n",
    "    def forward(self, x):\n",
    "        # shape of x: [batch, ]\n",
    "        ipdb.set_trace()\n",
    "        x = x.view(-1, self.OD_size)\n",
    "        device = torch.device(\"cuda\" if torch.cuda.is_available() else \"cpu\")\n",
    "#         x = nn.BatchNorm1d(x.shape[1], device=device)(x)\n",
    "        hidden_out = self.encoder(x)  # contains means and variances of features\n",
    "#         hidden_out = nn.BatchNorm1d(hidden_out.shape[1], device=device)(hidden_out)\n",
    "        # shape of \"x\" here = [batch, ]\n",
    "        hidden_out = hidden_out.view(-1, -1, 2)\n",
    "        \n",
    "        # ##################### THERE ARE SOME PROBLEMS HERE!!! \n",
    "        # each value in OD should have one feature pair (which \n",
    "        # has 37 attributes, 18 from loc1 and 18 from loc and 1 \n",
    "        # is the distance). The problem is bottleneck here only\n",
    "        # considers one value in OD (because it only has 37*2 \n",
    "        # values!)\n",
    "        \n",
    "        # sampling process\n",
    "        gaussian_noise = torch.normal(\n",
    "            torch.normal(torch.zeros(self.feature_dim), torch.ones(self.feature_dim))\n",
    "        ).view(-1, self.feature_dim)\n",
    "        sampled_feature = hidden_out[:, :, 0] + hidden_out[:, :, 1]*gaussian_noise\n",
    "        # ##################### THERE ARE SOME PROBLEMS HERE!!!\n",
    "        \n",
    "        y = self.decoder(sampled_feature)\n",
    "        return hidden_out, y"
   ]
  },
  {
   "cell_type": "markdown",
   "id": "e62e36ea",
   "metadata": {},
   "source": [
    "# Initialize the Model"
   ]
  },
  {
   "cell_type": "code",
   "execution_count": 191,
   "id": "f2120287",
   "metadata": {},
   "outputs": [],
   "source": [
    "def KL_loss(vec1, vec2):\n",
    "    KL_div = np.sum(np.where(vec1 != 0, vec1 * np.log(vec1 / vec2), 0))\n",
    "    return KL_div"
   ]
  },
  {
   "cell_type": "code",
   "execution_count": 192,
   "id": "1aa3ec6b",
   "metadata": {},
   "outputs": [
    {
     "name": "stdout",
     "output_type": "stream",
     "text": [
      "576\n"
     ]
    }
   ],
   "source": [
    "# Train the model by inputing \n",
    "# flattened OD matrix\n",
    "# to the model, then output the hidden feature and the reconstructed OD matrix\n",
    "device = torch.device(\"cuda\" if torch.cuda.is_available() else \"cpu\")\n",
    "model = VAE_FC_Net(OD.size).to(device)\n",
    "loss_recon = nn.MSELoss()  # reconstruction loss function\n",
    "\n",
    "loss_set_train = []\n",
    "loss_set_val = []\n",
    "\n",
    "print(OD.size)"
   ]
  },
  {
   "cell_type": "code",
   "execution_count": 193,
   "id": "959e29dd",
   "metadata": {
    "scrolled": true
   },
   "outputs": [
    {
     "data": {
      "text/plain": [
       "=================================================================\n",
       "Layer (type:depth-idx)                   Param #\n",
       "=================================================================\n",
       "VAE_FC_Net                               --\n",
       "├─Sequential: 1-1                        --\n",
       "│    └─Linear: 2-1                       147,712\n",
       "│    └─ReLU: 2-2                         --\n",
       "│    └─Dropout: 2-3                      --\n",
       "│    └─Linear: 2-4                       65,792\n",
       "│    └─ReLU: 2-5                         --\n",
       "│    └─Dropout: 2-6                      --\n",
       "│    └─Linear: 2-7                       65,792\n",
       "│    └─ReLU: 2-8                         --\n",
       "│    └─Dropout: 2-9                      --\n",
       "│    └─Linear: 2-10                      65,792\n",
       "│    └─ReLU: 2-11                        --\n",
       "│    └─Dropout: 2-12                     --\n",
       "│    └─Linear: 2-13                      65,792\n",
       "│    └─ReLU: 2-14                        --\n",
       "│    └─Dropout: 2-15                     --\n",
       "│    └─Linear: 2-16                      65,792\n",
       "│    └─ReLU: 2-17                        --\n",
       "│    └─Dropout: 2-18                     --\n",
       "│    └─Linear: 2-19                      32,896\n",
       "│    └─ReLU: 2-20                        --\n",
       "│    └─Dropout: 2-21                     --\n",
       "│    └─Linear: 2-22                      16,512\n",
       "│    └─ReLU: 2-23                        --\n",
       "│    └─Dropout: 2-24                     --\n",
       "│    └─Linear: 2-25                      16,512\n",
       "│    └─ReLU: 2-26                        --\n",
       "│    └─Dropout: 2-27                     --\n",
       "│    └─Linear: 2-28                      16,512\n",
       "│    └─ReLU: 2-29                        --\n",
       "│    └─Dropout: 2-30                     --\n",
       "│    └─Linear: 2-31                      16,512\n",
       "│    └─ReLU: 2-32                        --\n",
       "│    └─Dropout: 2-33                     --\n",
       "│    └─Linear: 2-34                      16,512\n",
       "│    └─ReLU: 2-35                        --\n",
       "│    └─Dropout: 2-36                     --\n",
       "│    └─Linear: 2-37                      16,512\n",
       "│    └─ReLU: 2-38                        --\n",
       "│    └─Dropout: 2-39                     --\n",
       "│    └─Linear: 2-40                      16,512\n",
       "│    └─ReLU: 2-41                        --\n",
       "│    └─Dropout: 2-42                     --\n",
       "│    └─Linear: 2-43                      9,546\n",
       "│    └─ReLU: 2-44                        --\n",
       "│    └─Dropout: 2-45                     --\n",
       "├─Sequential: 1-2                        --\n",
       "│    └─Linear: 2-46                      4,864\n",
       "│    └─ReLU: 2-47                        --\n",
       "│    └─Dropout: 2-48                     --\n",
       "│    └─Linear: 2-49                      16,512\n",
       "│    └─ReLU: 2-50                        --\n",
       "│    └─Dropout: 2-51                     --\n",
       "│    └─Linear: 2-52                      16,512\n",
       "│    └─ReLU: 2-53                        --\n",
       "│    └─Dropout: 2-54                     --\n",
       "│    └─Linear: 2-55                      16,512\n",
       "│    └─ReLU: 2-56                        --\n",
       "│    └─Dropout: 2-57                     --\n",
       "│    └─Linear: 2-58                      16,512\n",
       "│    └─ReLU: 2-59                        --\n",
       "│    └─Dropout: 2-60                     --\n",
       "│    └─Linear: 2-61                      16,512\n",
       "│    └─ReLU: 2-62                        --\n",
       "│    └─Dropout: 2-63                     --\n",
       "│    └─Linear: 2-64                      16,512\n",
       "│    └─ReLU: 2-65                        --\n",
       "│    └─Dropout: 2-66                     --\n",
       "│    └─Linear: 2-67                      16,512\n",
       "│    └─ReLU: 2-68                        --\n",
       "│    └─Dropout: 2-69                     --\n",
       "│    └─Linear: 2-70                      33,024\n",
       "│    └─ReLU: 2-71                        --\n",
       "│    └─Dropout: 2-72                     --\n",
       "│    └─Linear: 2-73                      65,792\n",
       "│    └─ReLU: 2-74                        --\n",
       "│    └─Dropout: 2-75                     --\n",
       "│    └─Linear: 2-76                      65,792\n",
       "│    └─ReLU: 2-77                        --\n",
       "│    └─Dropout: 2-78                     --\n",
       "│    └─Linear: 2-79                      65,792\n",
       "│    └─ReLU: 2-80                        --\n",
       "│    └─Dropout: 2-81                     --\n",
       "│    └─Linear: 2-82                      65,792\n",
       "│    └─ReLU: 2-83                        --\n",
       "│    └─Dropout: 2-84                     --\n",
       "│    └─Linear: 2-85                      65,792\n",
       "│    └─ReLU: 2-86                        --\n",
       "│    └─Dropout: 2-87                     --\n",
       "│    └─Linear: 2-88                      148,032\n",
       "│    └─ReLU: 2-89                        --\n",
       "=================================================================\n",
       "Total params: 1,265,162\n",
       "Trainable params: 1,265,162\n",
       "Non-trainable params: 0\n",
       "================================================================="
      ]
     },
     "execution_count": 193,
     "metadata": {},
     "output_type": "execute_result"
    }
   ],
   "source": [
    "summary(model) "
   ]
  },
  {
   "cell_type": "markdown",
   "id": "2bf73ae5",
   "metadata": {},
   "source": [
    "# Preparing data for PyTorch"
   ]
  },
  {
   "cell_type": "code",
   "execution_count": 194,
   "id": "7fadea67",
   "metadata": {},
   "outputs": [],
   "source": [
    "OD = torch.tensor(OD.to_numpy(), dtype=torch.float32).to(device)\n",
    "\n",
    "batch_size = 1024\n",
    "loader_train = torch.utils.data.DataLoader(\n",
    "    TensorDataset(OD), batch_size, shuffle=False\n",
    ")\n",
    "\n",
    "iter_train = iter(loader_train)"
   ]
  },
  {
   "cell_type": "markdown",
   "id": "9f42214b",
   "metadata": {},
   "source": [
    "# Train the Model"
   ]
  },
  {
   "cell_type": "code",
   "execution_count": 165,
   "id": "b5d59ae8",
   "metadata": {},
   "outputs": [],
   "source": [
    "optimizer = optim.Adam(model.parameters())"
   ]
  },
  {
   "cell_type": "code",
   "execution_count": null,
   "id": "74c5e73c",
   "metadata": {},
   "outputs": [],
   "source": [
    "model.train()\n",
    "\n",
    "epochs = 1000\n",
    "   \n",
    "for e in range(epochs):\n",
    "    #ipdb.set_trace()\n",
    "    for i in range(len(loader_train)):\n",
    "        try:\n",
    "            X = iter_train.next()[0]\n",
    "        except:\n",
    "            iter_train = iter(loader_train)\n",
    "            X = iter_train.next()[0]\n",
    "        \n",
    "        out = model(X)\n",
    "#         ipdb.set_trace()\n",
    "        loss = loss_func(out, y)\n",
    "\n",
    "        out_val = model(X_val)\n",
    "#         ipdb.set_trace()\n",
    "        loss_val = loss_func(out_val, y_val)\n",
    "\n",
    "        optimizer.zero_grad()\n",
    "        loss.backward()\n",
    "        optimizer.step()\n",
    "\n",
    "        loss_set_val.append(loss_val.cpu().detach().numpy())\n",
    "        loss_set_train.append(loss.cpu().detach().numpy())\n",
    "    if e%50==0:\n",
    "        print('Epoch %i   success, val loss:%.6f, train loss:%.6f'%(\n",
    "            e, loss_val.cpu().detach().numpy(), loss.cpu().detach().numpy()\n",
    "        ))\n",
    "        "
   ]
  },
  {
   "cell_type": "code",
   "execution_count": null,
   "id": "632ba67e",
   "metadata": {},
   "outputs": [],
   "source": []
  },
  {
   "cell_type": "code",
   "execution_count": null,
   "id": "ab147492",
   "metadata": {},
   "outputs": [],
   "source": []
  },
  {
   "cell_type": "code",
   "execution_count": null,
   "id": "d0a196bf",
   "metadata": {},
   "outputs": [],
   "source": []
  }
 ],
 "metadata": {
  "kernelspec": {
   "display_name": "bda_traff",
   "language": "python",
   "name": "bda_traff"
  },
  "language_info": {
   "codemirror_mode": {
    "name": "ipython",
    "version": 3
   },
   "file_extension": ".py",
   "mimetype": "text/x-python",
   "name": "python",
   "nbconvert_exporter": "python",
   "pygments_lexer": "ipython3",
   "version": "3.8.11"
  }
 },
 "nbformat": 4,
 "nbformat_minor": 5
}
