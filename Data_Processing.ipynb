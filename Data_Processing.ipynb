{
 "cells": [
  {
   "cell_type": "markdown",
   "metadata": {
    "id": "x0EA_xf74GcJ"
   },
   "source": [
    "# Download Air Traffic Data and Import Basic Pkgs"
   ]
  },
  {
   "cell_type": "code",
   "execution_count": 1,
   "metadata": {
    "id": "grlh8D_d56d6"
   },
   "outputs": [],
   "source": [
    "import pandas as pd\n",
    "import geopandas as gpd\n",
    "import numpy as np\n",
    "import matplotlib.pyplot as plt\n",
    "\n",
    "import ipdb"
   ]
  },
  {
   "cell_type": "markdown",
   "metadata": {
    "id": "6PIZGDkm4SqL"
   },
   "source": [
    "# Load Data"
   ]
  },
  {
   "cell_type": "markdown",
   "metadata": {},
   "source": [
    "## OD data"
   ]
  },
  {
   "cell_type": "code",
   "execution_count": 2,
   "metadata": {},
   "outputs": [],
   "source": [
    "# generate an OD matrix from cumulative trip record\n",
    "# completed by code \"OD_batch.py\""
   ]
  },
  {
   "cell_type": "code",
   "execution_count": 3,
   "metadata": {},
   "outputs": [],
   "source": [
    "year = 2019\n",
    "quarter = 4\n",
    "\n",
    "OD = pd.read_csv('./outputs/%i0%i_OD.csv'%(year, quarter), index_col=0)\n"
   ]
  },
  {
   "cell_type": "code",
   "execution_count": 4,
   "metadata": {
    "scrolled": false
   },
   "outputs": [
    {
     "data": {
      "text/plain": [
       "<matplotlib.colorbar.Colorbar at 0x7fe24ab60ca0>"
      ]
     },
     "execution_count": 4,
     "metadata": {},
     "output_type": "execute_result"
    },
    {
     "data": {
      "image/png": "[encoded data removed]",
      "text/plain": [
       "<Figure size 432x288 with 2 Axes>"
      ]
     },
     "metadata": {
      "needs_background": "light"
     },
     "output_type": "display_data"
    }
   ],
   "source": [
    "plt.figure()\n",
    "plt.imshow(OD)\n",
    "plt.colorbar()"
   ]
  },
  {
   "cell_type": "markdown",
   "metadata": {},
   "source": [
    "## SLD"
   ]
  },
  {
   "cell_type": "code",
   "execution_count": 5,
   "metadata": {
    "scrolled": true
   },
   "outputs": [
    {
     "data": {
      "text/html": [
       "<div>\n",
       "<style scoped>\n",
       "    .dataframe tbody tr th:only-of-type {\n",
       "        vertical-align: middle;\n",
       "    }\n",
       "\n",
       "    .dataframe tbody tr th {\n",
       "        vertical-align: top;\n",
       "    }\n",
       "\n",
       "    .dataframe thead th {\n",
       "        text-align: right;\n",
       "    }\n",
       "</style>\n",
       "<table border=\"1\" class=\"dataframe\">\n",
       "  <thead>\n",
       "    <tr style=\"text-align: right;\">\n",
       "      <th></th>\n",
       "      <th>Airport</th>\n",
       "      <th>lat</th>\n",
       "      <th>lon</th>\n",
       "      <th>state</th>\n",
       "      <th>state_code</th>\n",
       "      <th>city</th>\n",
       "    </tr>\n",
       "  </thead>\n",
       "  <tbody>\n",
       "    <tr>\n",
       "      <th>0</th>\n",
       "      <td>ATL</td>\n",
       "      <td>33.640833</td>\n",
       "      <td>-84.427222</td>\n",
       "      <td>Georgia</td>\n",
       "      <td>GA</td>\n",
       "      <td>Atlanta</td>\n",
       "    </tr>\n",
       "    <tr>\n",
       "      <th>1</th>\n",
       "      <td>BOS</td>\n",
       "      <td>42.363611</td>\n",
       "      <td>-71.006111</td>\n",
       "      <td>Massachusetts</td>\n",
       "      <td>MA</td>\n",
       "      <td>Boston</td>\n",
       "    </tr>\n",
       "  </tbody>\n",
       "</table>\n",
       "</div>"
      ],
      "text/plain": [
       "  Airport        lat        lon          state state_code     city\n",
       "0     ATL  33.640833 -84.427222        Georgia         GA  Atlanta\n",
       "1     BOS  42.363611 -71.006111  Massachusetts         MA   Boston"
      ]
     },
     "execution_count": 5,
     "metadata": {},
     "output_type": "execute_result"
    }
   ],
   "source": [
    "# metadata = pd.read_csv('./data/US-APT-Information.csv', index_col=0)\n",
    "# metadata.head(2)\n",
    "\n",
    "airport_df = pd.read_csv('./data/airport_core.csv')\n",
    "airport_df.head(2)"
   ]
  },
  {
   "cell_type": "code",
   "execution_count": 6,
   "metadata": {
    "id": "iLLZUJ5Q7JW4"
   },
   "outputs": [],
   "source": [
    "sl_data = pd.read_csv('./data/Smart Location Data Export.csv')\n",
    "sl_data['GEOID'] = sl_data['GEOID20'] // 10\n",
    "sl_data['COUNTYID'] = sl_data['GEOID20'] // 1e7"
   ]
  },
  {
   "cell_type": "code",
   "execution_count": 7,
   "metadata": {},
   "outputs": [
    {
     "data": {
      "text/html": [
       "<div>\n",
       "<style scoped>\n",
       "    .dataframe tbody tr th:only-of-type {\n",
       "        vertical-align: middle;\n",
       "    }\n",
       "\n",
       "    .dataframe tbody tr th {\n",
       "        vertical-align: top;\n",
       "    }\n",
       "\n",
       "    .dataframe thead th {\n",
       "        text-align: right;\n",
       "    }\n",
       "</style>\n",
       "<table border=\"1\" class=\"dataframe\">\n",
       "  <thead>\n",
       "    <tr style=\"text-align: right;\">\n",
       "      <th></th>\n",
       "      <th>OBJECTID</th>\n",
       "      <th>GEOID10</th>\n",
       "      <th>GEOID20</th>\n",
       "      <th>STATEFP</th>\n",
       "      <th>COUNTYFP</th>\n",
       "      <th>TRACTCE</th>\n",
       "      <th>BLKGRPCE</th>\n",
       "      <th>CSA</th>\n",
       "      <th>CSA_Name</th>\n",
       "      <th>CBSA</th>\n",
       "      <th>...</th>\n",
       "      <th>VMT_tot_min</th>\n",
       "      <th>VMT_tot_max</th>\n",
       "      <th>VMT_tot_avg</th>\n",
       "      <th>GHG_per_worker</th>\n",
       "      <th>Annual_GHG</th>\n",
       "      <th>SLC_score</th>\n",
       "      <th>Shape_Length</th>\n",
       "      <th>Shape_Area</th>\n",
       "      <th>GEOID</th>\n",
       "      <th>COUNTYID</th>\n",
       "    </tr>\n",
       "  </thead>\n",
       "  <tbody>\n",
       "    <tr>\n",
       "      <th>0</th>\n",
       "      <td>1</td>\n",
       "      <td>481130078254</td>\n",
       "      <td>481130078254</td>\n",
       "      <td>48</td>\n",
       "      <td>113</td>\n",
       "      <td>7825</td>\n",
       "      <td>4</td>\n",
       "      <td>206.0</td>\n",
       "      <td>Dallas-Fort Worth, TX-OK</td>\n",
       "      <td>19100.0</td>\n",
       "      <td>...</td>\n",
       "      <td>11.442995</td>\n",
       "      <td>82.636303</td>\n",
       "      <td>25.659327</td>\n",
       "      <td>24.499297</td>\n",
       "      <td>6369.817221</td>\n",
       "      <td>77.450956</td>\n",
       "      <td>3110.36082</td>\n",
       "      <td>297836.0831</td>\n",
       "      <td>48113007825</td>\n",
       "      <td>48113.0</td>\n",
       "    </tr>\n",
       "    <tr>\n",
       "      <th>1</th>\n",
       "      <td>2</td>\n",
       "      <td>481130078252</td>\n",
       "      <td>481130078252</td>\n",
       "      <td>48</td>\n",
       "      <td>113</td>\n",
       "      <td>7825</td>\n",
       "      <td>2</td>\n",
       "      <td>206.0</td>\n",
       "      <td>Dallas-Fort Worth, TX-OK</td>\n",
       "      <td>19100.0</td>\n",
       "      <td>...</td>\n",
       "      <td>11.442995</td>\n",
       "      <td>82.636303</td>\n",
       "      <td>25.659327</td>\n",
       "      <td>23.580987</td>\n",
       "      <td>6131.056669</td>\n",
       "      <td>78.898635</td>\n",
       "      <td>3519.46911</td>\n",
       "      <td>484945.1466</td>\n",
       "      <td>48113007825</td>\n",
       "      <td>48113.0</td>\n",
       "    </tr>\n",
       "  </tbody>\n",
       "</table>\n",
       "<p>2 rows × 184 columns</p>\n",
       "</div>"
      ],
      "text/plain": [
       "   OBJECTID       GEOID10       GEOID20  STATEFP  COUNTYFP  TRACTCE  BLKGRPCE  \\\n",
       "0         1  481130078254  481130078254       48       113     7825         4   \n",
       "1         2  481130078252  481130078252       48       113     7825         2   \n",
       "\n",
       "     CSA                  CSA_Name     CBSA  ... VMT_tot_min  VMT_tot_max  \\\n",
       "0  206.0  Dallas-Fort Worth, TX-OK  19100.0  ...   11.442995    82.636303   \n",
       "1  206.0  Dallas-Fort Worth, TX-OK  19100.0  ...   11.442995    82.636303   \n",
       "\n",
       "   VMT_tot_avg  GHG_per_worker   Annual_GHG  SLC_score  Shape_Length  \\\n",
       "0    25.659327       24.499297  6369.817221  77.450956    3110.36082   \n",
       "1    25.659327       23.580987  6131.056669  78.898635    3519.46911   \n",
       "\n",
       "    Shape_Area        GEOID  COUNTYID  \n",
       "0  297836.0831  48113007825   48113.0  \n",
       "1  484945.1466  48113007825   48113.0  \n",
       "\n",
       "[2 rows x 184 columns]"
      ]
     },
     "execution_count": 7,
     "metadata": {},
     "output_type": "execute_result"
    }
   ],
   "source": [
    "sl_data.head(2)"
   ]
  },
  {
   "cell_type": "code",
   "execution_count": 42,
   "metadata": {},
   "outputs": [],
   "source": [
    "# may spend around 2 minutes\n",
    "us_tract = gpd.GeoDataFrame(columns=gpd.read_file('https://www2.census.gov/geo/tiger/TIGER2019/TRACT/tl_2019_06_tract.zip').columns)\n",
    "for i in ['01','04','05','06','08','09',10,11,12,13,16,17,18,19,20,21,22,23,24,25,26,27,28,29,30,31,32,33,34,35,36,37,38,39,40,41,42,44,45,46,47,48,49,50,51,53,54,55,56]:\n",
    "    try:\n",
    "        tract = gpd.read_file('https://www2.census.gov/geo/tiger/TIGER2019/TRACT/tl_2019_%i_tract.zip'%i)\n",
    "    except:\n",
    "        tract = gpd.read_file('https://www2.census.gov/geo/tiger/TIGER2019/TRACT/tl_2019_%s_tract.zip'%i)\n",
    "    us_tract = us_tract.append(tract)\n",
    "\n",
    "us_tract.index = range(us_tract.shape[0])\n"
   ]
  },
  {
   "cell_type": "code",
   "execution_count": 71,
   "metadata": {},
   "outputs": [],
   "source": [
    "def add_att(df, att, type_):\n",
    "    # type_ can be 'sum', 'mean' or 'same'\n",
    "    df[att] = ''\n",
    "    for i in df.index:\n",
    "        geoid = int(df.loc[i, 'GEOID'])\n",
    "        if type_ == 'sum':\n",
    "            df.loc[i, att] = sl_data.loc[sl_data['GEOID']==geoid, att].sum()\n",
    "        elif type_ == 'mean':\n",
    "            df.loc[i, att] = sl_data.loc[sl_data['GEOID']==geoid, att].mean()\n",
    "        elif type_ == 'same':\n",
    "#             ipdb.set_trace()\n",
    "            df.loc[i, att] = sl_data.loc[sl_data['GEOID']==geoid, att].iloc[0]\n",
    "    return df\n",
    "    "
   ]
  },
  {
   "cell_type": "code",
   "execution_count": 51,
   "metadata": {},
   "outputs": [],
   "source": [
    "att_lst = [\n",
    "    'CSA', 'CSA_Name', 'CBSA', 'CBSA_Name', 'AutoOwn0', 'AutoOwn1', 'AutoOwn2p',\\\n",
    "    'TotEmp', 'E_LowWageWk', 'E_MedWageWk', 'E_HiWageWk', 'D1B', 'D1C', 'D3A', 'D4A', 'D4B050', 'D4C', 'D4D', \\\n",
    "    'D5AR', 'D5AE', 'NatWalkInd', 'TotPop'\n",
    "]\n",
    "\n",
    "type_lst = [\n",
    "    'same', 'same', 'same', 'same', 'sum', 'sum', 'sum',\\\n",
    "    'sum', 'sum', 'sum', 'sum', 'mean', 'mean', 'mean', 'mean', 'mean', 'mean', 'mean',\\\n",
    "    'sum', 'sum', 'mean', 'sum'\n",
    "]\n",
    "\n",
    "assert(len(att_lst) == len(type_lst))"
   ]
  },
  {
   "cell_type": "code",
   "execution_count": 52,
   "metadata": {
    "scrolled": true
   },
   "outputs": [
    {
     "name": "stdout",
     "output_type": "stream",
     "text": [
      "Complete CSA\n",
      "Complete CSA_Name\n",
      "Complete CBSA\n",
      "Complete CBSA_Name\n",
      "Complete AutoOwn0\n",
      "Complete AutoOwn1\n",
      "Complete AutoOwn2p\n",
      "Complete TotEmp\n",
      "Complete E_LowWageWk\n",
      "Complete E_MedWageWk\n",
      "Complete E_HiWageWk\n",
      "Complete D1B\n",
      "Complete D1C\n",
      "Complete D3A\n",
      "Complete D4A\n",
      "Complete D4B050\n",
      "Complete D4C\n",
      "Complete D4D\n",
      "Complete D5AR\n",
      "Complete D5AE\n",
      "Complete NatWalkInd\n",
      "Complete TotPop\n"
     ]
    }
   ],
   "source": [
    "# may spend around 20~30 minutes\n",
    "for i in range(len(att_lst)):\n",
    "    us_tract = add_att(us_tract, att_lst[i], type_lst[i])\n",
    "    print('Complete', att_lst[i])"
   ]
  },
  {
   "cell_type": "code",
   "execution_count": 53,
   "metadata": {},
   "outputs": [],
   "source": [
    "# may spend around 2 minutes\n",
    "for i in us_tract.index:\n",
    "    us_tract.loc[i, 'COUNTYID'] = us_tract.loc[i, 'GEOID'][:5]\n",
    "\n",
    "att_lst.append('COUNTYID')\n",
    "att_lst.append('GEOID')\n",
    "type_lst.append('same')\n",
    "type_lst.append('same')"
   ]
  },
  {
   "cell_type": "code",
   "execution_count": 54,
   "metadata": {},
   "outputs": [
    {
     "data": {
      "text/html": [
       "<div>\n",
       "<style scoped>\n",
       "    .dataframe tbody tr th:only-of-type {\n",
       "        vertical-align: middle;\n",
       "    }\n",
       "\n",
       "    .dataframe tbody tr th {\n",
       "        vertical-align: top;\n",
       "    }\n",
       "\n",
       "    .dataframe thead th {\n",
       "        text-align: right;\n",
       "    }\n",
       "</style>\n",
       "<table border=\"1\" class=\"dataframe\">\n",
       "  <thead>\n",
       "    <tr style=\"text-align: right;\">\n",
       "      <th></th>\n",
       "      <th>STATEFP</th>\n",
       "      <th>COUNTYFP</th>\n",
       "      <th>TRACTCE</th>\n",
       "      <th>GEOID</th>\n",
       "      <th>NAME</th>\n",
       "      <th>NAMELSAD</th>\n",
       "      <th>MTFCC</th>\n",
       "      <th>FUNCSTAT</th>\n",
       "      <th>ALAND</th>\n",
       "      <th>AWATER</th>\n",
       "      <th>...</th>\n",
       "      <th>D3A</th>\n",
       "      <th>D4A</th>\n",
       "      <th>D4B050</th>\n",
       "      <th>D4C</th>\n",
       "      <th>D4D</th>\n",
       "      <th>D5AR</th>\n",
       "      <th>D5AE</th>\n",
       "      <th>NatWalkInd</th>\n",
       "      <th>TotPop</th>\n",
       "      <th>COUNTYID</th>\n",
       "    </tr>\n",
       "  </thead>\n",
       "  <tbody>\n",
       "    <tr>\n",
       "      <th>0</th>\n",
       "      <td>01</td>\n",
       "      <td>055</td>\n",
       "      <td>010700</td>\n",
       "      <td>01055010700</td>\n",
       "      <td>107</td>\n",
       "      <td>Census Tract 107</td>\n",
       "      <td>G5020</td>\n",
       "      <td>S</td>\n",
       "      <td>87404337</td>\n",
       "      <td>2927199</td>\n",
       "      <td>...</td>\n",
       "      <td>3.610139</td>\n",
       "      <td>-99999.0</td>\n",
       "      <td>0.0</td>\n",
       "      <td>-99999.0</td>\n",
       "      <td>-99999.0</td>\n",
       "      <td>13684</td>\n",
       "      <td>13141</td>\n",
       "      <td>4.166667</td>\n",
       "      <td>3750</td>\n",
       "      <td>01055</td>\n",
       "    </tr>\n",
       "    <tr>\n",
       "      <th>1</th>\n",
       "      <td>01</td>\n",
       "      <td>055</td>\n",
       "      <td>001300</td>\n",
       "      <td>01055001300</td>\n",
       "      <td>13</td>\n",
       "      <td>Census Tract 13</td>\n",
       "      <td>G5020</td>\n",
       "      <td>S</td>\n",
       "      <td>5083957</td>\n",
       "      <td>836213</td>\n",
       "      <td>...</td>\n",
       "      <td>16.467295</td>\n",
       "      <td>-99999.0</td>\n",
       "      <td>0.0</td>\n",
       "      <td>-99999.0</td>\n",
       "      <td>-99999.0</td>\n",
       "      <td>54622</td>\n",
       "      <td>43352</td>\n",
       "      <td>8.666667</td>\n",
       "      <td>2807</td>\n",
       "      <td>01055</td>\n",
       "    </tr>\n",
       "  </tbody>\n",
       "</table>\n",
       "<p>2 rows × 36 columns</p>\n",
       "</div>"
      ],
      "text/plain": [
       "  STATEFP COUNTYFP TRACTCE        GEOID NAME          NAMELSAD  MTFCC  \\\n",
       "0      01      055  010700  01055010700  107  Census Tract 107  G5020   \n",
       "1      01      055  001300  01055001300   13   Census Tract 13  G5020   \n",
       "\n",
       "  FUNCSTAT     ALAND   AWATER  ...        D3A      D4A D4B050      D4C  \\\n",
       "0        S  87404337  2927199  ...   3.610139 -99999.0    0.0 -99999.0   \n",
       "1        S   5083957   836213  ...  16.467295 -99999.0    0.0 -99999.0   \n",
       "\n",
       "       D4D   D5AR   D5AE NatWalkInd TotPop COUNTYID  \n",
       "0 -99999.0  13684  13141   4.166667   3750    01055  \n",
       "1 -99999.0  54622  43352   8.666667   2807    01055  \n",
       "\n",
       "[2 rows x 36 columns]"
      ]
     },
     "execution_count": 54,
     "metadata": {},
     "output_type": "execute_result"
    }
   ],
   "source": [
    "us_tract.head(2)"
   ]
  },
  {
   "cell_type": "code",
   "execution_count": 91,
   "metadata": {},
   "outputs": [],
   "source": [
    "from shapely.ops import unary_union\n",
    "\n",
    "def get_county_data():\n",
    "    # 新建一个表格，找出各个county的数据（通过合并各个county的tract来实现）\n",
    "    county_lst = us_tract['COUNTYID'].drop_duplicates()  # datatype: series\n",
    "    col_ = ['TotPop', 'COUNTYID', 'geometry']\n",
    "    county_data = gpd.GeoDataFrame(columns=col_, index=range(len(county_lst)))\n",
    "    \n",
    "    for i in range(len(county_lst)):\n",
    "        this_county_id = county_lst.iloc[i]\n",
    "        this_county = us_tract[us_tract['COUNTYID']==this_county_id]\n",
    "        polygons = this_county['geometry']\n",
    "        boundary = gpd.GeoSeries(unary_union(polygons))\n",
    "        \n",
    "        county_data.loc[i, 'geometry'] = boundary.values\n",
    "        county_data.loc[i, 'COUNTYID'] = this_county_id\n",
    "        county_data.loc[i, 'TotPop'] = this_county['TotPop'].sum()\n",
    "        \n",
    "    return county_data"
   ]
  },
  {
   "cell_type": "code",
   "execution_count": 92,
   "metadata": {},
   "outputs": [],
   "source": [
    "# may spend around 1.5 minutes\n",
    "us_county = get_county_data()"
   ]
  },
  {
   "cell_type": "code",
   "execution_count": 93,
   "metadata": {},
   "outputs": [
    {
     "data": {
      "text/html": [
       "<div>\n",
       "<style scoped>\n",
       "    .dataframe tbody tr th:only-of-type {\n",
       "        vertical-align: middle;\n",
       "    }\n",
       "\n",
       "    .dataframe tbody tr th {\n",
       "        vertical-align: top;\n",
       "    }\n",
       "\n",
       "    .dataframe thead th {\n",
       "        text-align: right;\n",
       "    }\n",
       "</style>\n",
       "<table border=\"1\" class=\"dataframe\">\n",
       "  <thead>\n",
       "    <tr style=\"text-align: right;\">\n",
       "      <th></th>\n",
       "      <th>TotPop</th>\n",
       "      <th>COUNTYID</th>\n",
       "      <th>geometry</th>\n",
       "    </tr>\n",
       "  </thead>\n",
       "  <tbody>\n",
       "    <tr>\n",
       "      <th>0</th>\n",
       "      <td>102939</td>\n",
       "      <td>01055</td>\n",
       "      <td>POLYGON ((-85.98820 33.87924, -85.99497 33.879...</td>\n",
       "    </tr>\n",
       "    <tr>\n",
       "      <th>1</th>\n",
       "      <td>20298</td>\n",
       "      <td>01107</td>\n",
       "      <td>POLYGON ((-88.33929 33.00300, -88.33845 33.010...</td>\n",
       "    </tr>\n",
       "  </tbody>\n",
       "</table>\n",
       "</div>"
      ],
      "text/plain": [
       "   TotPop COUNTYID                                           geometry\n",
       "0  102939    01055  POLYGON ((-85.98820 33.87924, -85.99497 33.879...\n",
       "1   20298    01107  POLYGON ((-88.33929 33.00300, -88.33845 33.010..."
      ]
     },
     "execution_count": 93,
     "metadata": {},
     "output_type": "execute_result"
    }
   ],
   "source": [
    "us_county.head(2)"
   ]
  },
  {
   "cell_type": "code",
   "execution_count": 94,
   "metadata": {},
   "outputs": [],
   "source": [
    "def add_att_county(df, att, type_):\n",
    "    # type_ can be 'sum', 'mean' or 'same'\n",
    "    df[att] = ''\n",
    "    for i in df.index:\n",
    "        geoid = int(df.loc[i, 'COUNTYID'])\n",
    "        if type_ == 'sum':\n",
    "            df.loc[i, att] = sl_data.loc[sl_data['COUNTYID']==geoid, att].sum()\n",
    "        elif type_ == 'mean':\n",
    "            df.loc[i, att] = sl_data.loc[sl_data['COUNTYID']==geoid, att].mean()\n",
    "        elif type_ == 'same':\n",
    "#             ipdb.set_trace()\n",
    "            df.loc[i, att] = sl_data.loc[sl_data['COUNTYID']==geoid, att].iloc[0]\n",
    "    return df\n",
    "    "
   ]
  },
  {
   "cell_type": "code",
   "execution_count": 95,
   "metadata": {
    "scrolled": true
   },
   "outputs": [
    {
     "name": "stdout",
     "output_type": "stream",
     "text": [
      "Complete CSA\n",
      "Complete CSA_Name\n",
      "Complete CBSA\n",
      "Complete CBSA_Name\n",
      "Complete AutoOwn0\n",
      "Complete AutoOwn1\n",
      "Complete AutoOwn2p\n",
      "Complete TotEmp\n",
      "Complete E_LowWageWk\n",
      "Complete E_MedWageWk\n",
      "Complete E_HiWageWk\n",
      "Complete D1B\n",
      "Complete D1C\n",
      "Complete D3A\n",
      "Complete D4A\n",
      "Complete D4B050\n",
      "Complete D4C\n",
      "Complete D4D\n",
      "Complete D5AR\n",
      "Complete D5AE\n",
      "Complete NatWalkInd\n",
      "Complete TotPop\n"
     ]
    }
   ],
   "source": [
    "for i in range(len(att_lst)-2):  # except for COUNTYID and GEOID\n",
    "    us_county = add_att_county(us_county, att_lst[i], type_lst[i])\n",
    "    print('Complete', att_lst[i])"
   ]
  },
  {
   "cell_type": "code",
   "execution_count": 104,
   "metadata": {},
   "outputs": [
    {
     "data": {
      "text/html": [
       "<div>\n",
       "<style scoped>\n",
       "    .dataframe tbody tr th:only-of-type {\n",
       "        vertical-align: middle;\n",
       "    }\n",
       "\n",
       "    .dataframe tbody tr th {\n",
       "        vertical-align: top;\n",
       "    }\n",
       "\n",
       "    .dataframe thead th {\n",
       "        text-align: right;\n",
       "    }\n",
       "</style>\n",
       "<table border=\"1\" class=\"dataframe\">\n",
       "  <thead>\n",
       "    <tr style=\"text-align: right;\">\n",
       "      <th></th>\n",
       "      <th>TotPop</th>\n",
       "      <th>COUNTYID</th>\n",
       "      <th>geometry</th>\n",
       "      <th>CSA</th>\n",
       "      <th>CSA_Name</th>\n",
       "      <th>CBSA</th>\n",
       "      <th>CBSA_Name</th>\n",
       "      <th>AutoOwn0</th>\n",
       "      <th>AutoOwn1</th>\n",
       "      <th>AutoOwn2p</th>\n",
       "      <th>...</th>\n",
       "      <th>D1B</th>\n",
       "      <th>D1C</th>\n",
       "      <th>D3A</th>\n",
       "      <th>D4A</th>\n",
       "      <th>D4B050</th>\n",
       "      <th>D4C</th>\n",
       "      <th>D4D</th>\n",
       "      <th>D5AR</th>\n",
       "      <th>D5AE</th>\n",
       "      <th>NatWalkInd</th>\n",
       "    </tr>\n",
       "  </thead>\n",
       "  <tbody>\n",
       "    <tr>\n",
       "      <th>0</th>\n",
       "      <td>102939</td>\n",
       "      <td>01055</td>\n",
       "      <td>POLYGON ((-85.98820 33.87924, -85.99497 33.879...</td>\n",
       "      <td>NaN</td>\n",
       "      <td>NaN</td>\n",
       "      <td>23460.0</td>\n",
       "      <td>Gadsden, AL</td>\n",
       "      <td>2441</td>\n",
       "      <td>12009</td>\n",
       "      <td>24327</td>\n",
       "      <td>...</td>\n",
       "      <td>1.529579</td>\n",
       "      <td>0.791391</td>\n",
       "      <td>10.617419</td>\n",
       "      <td>-99999.0</td>\n",
       "      <td>0.0</td>\n",
       "      <td>-99999.0</td>\n",
       "      <td>-99999.0</td>\n",
       "      <td>1028152</td>\n",
       "      <td>900253</td>\n",
       "      <td>6.238956</td>\n",
       "    </tr>\n",
       "    <tr>\n",
       "      <th>1</th>\n",
       "      <td>20298</td>\n",
       "      <td>01107</td>\n",
       "      <td>POLYGON ((-88.33929 33.00300, -88.33845 33.010...</td>\n",
       "      <td>NaN</td>\n",
       "      <td>NaN</td>\n",
       "      <td>46220.0</td>\n",
       "      <td>Tuscaloosa, AL</td>\n",
       "      <td>731</td>\n",
       "      <td>2298</td>\n",
       "      <td>4501</td>\n",
       "      <td>...</td>\n",
       "      <td>0.058953</td>\n",
       "      <td>0.009858</td>\n",
       "      <td>1.801684</td>\n",
       "      <td>-99999.0</td>\n",
       "      <td>0.0</td>\n",
       "      <td>-99999.0</td>\n",
       "      <td>-99999.0</td>\n",
       "      <td>36617</td>\n",
       "      <td>40661</td>\n",
       "      <td>4.54386</td>\n",
       "    </tr>\n",
       "  </tbody>\n",
       "</table>\n",
       "<p>2 rows × 24 columns</p>\n",
       "</div>"
      ],
      "text/plain": [
       "   TotPop COUNTYID                                           geometry  CSA  \\\n",
       "0  102939    01055  POLYGON ((-85.98820 33.87924, -85.99497 33.879...  NaN   \n",
       "1   20298    01107  POLYGON ((-88.33929 33.00300, -88.33845 33.010...  NaN   \n",
       "\n",
       "  CSA_Name     CBSA       CBSA_Name AutoOwn0 AutoOwn1 AutoOwn2p  ...  \\\n",
       "0      NaN  23460.0     Gadsden, AL     2441    12009     24327  ...   \n",
       "1      NaN  46220.0  Tuscaloosa, AL      731     2298      4501  ...   \n",
       "\n",
       "        D1B       D1C        D3A      D4A D4B050      D4C      D4D     D5AR  \\\n",
       "0  1.529579  0.791391  10.617419 -99999.0    0.0 -99999.0 -99999.0  1028152   \n",
       "1  0.058953  0.009858   1.801684 -99999.0    0.0 -99999.0 -99999.0    36617   \n",
       "\n",
       "     D5AE NatWalkInd  \n",
       "0  900253   6.238956  \n",
       "1   40661    4.54386  \n",
       "\n",
       "[2 rows x 24 columns]"
      ]
     },
     "execution_count": 104,
     "metadata": {},
     "output_type": "execute_result"
    }
   ],
   "source": [
    "us_county.head(2)"
   ]
  },
  {
   "cell_type": "code",
   "execution_count": 99,
   "metadata": {},
   "outputs": [],
   "source": [
    "def add_att_state(df, att, type_):\n",
    "    # type_ can be 'sum', 'mean' or 'same'\n",
    "    if att=='STATEFP':\n",
    "        return df\n",
    "    df[att] = ''\n",
    "    for i in df.index:\n",
    "        geoid = int(df.loc[i, 'STATEFP'])\n",
    "        if type_ == 'sum':\n",
    "            df.loc[i, att] = sl_data.loc[sl_data['STATEFP']==geoid, att].sum()\n",
    "        elif type_ == 'mean':\n",
    "            df.loc[i, att] = sl_data.loc[sl_data['STATEFP']==geoid, att].mean()\n",
    "        elif type_ == 'same':\n",
    "#             ipdb.set_trace()\n",
    "            df.loc[i, att] = sl_data.loc[sl_data['STATEFP']==geoid, att].iloc[0]\n",
    "    return df\n",
    "    "
   ]
  },
  {
   "cell_type": "code",
   "execution_count": 100,
   "metadata": {},
   "outputs": [],
   "source": [
    "from shapely.ops import unary_union\n",
    "\n",
    "def get_state_data():\n",
    "    # 新建一个表格，找出各个state的数据（通过合并各个state的tract来实现）\n",
    "    state_lst = us_tract['STATEFP'].drop_duplicates()  # datatype: series\n",
    "    col_ = ['TotPop', 'STATEFP', 'geometry']\n",
    "    state_data = gpd.GeoDataFrame(columns=col_, index=range(len(state_lst)))\n",
    "    \n",
    "    for i in range(len(state_lst)):\n",
    "        this_state_id = state_lst.iloc[i]\n",
    "        this_state = us_tract[us_tract['STATEFP']==this_state_id]\n",
    "        polygons = this_state['geometry']\n",
    "        boundary = gpd.GeoSeries(unary_union(polygons))\n",
    "        \n",
    "        state_data.loc[i, 'geometry'] = boundary.values\n",
    "        state_data.loc[i, 'STATEFP'] = this_state_id\n",
    "        state_data.loc[i, 'TotPop'] = this_state['TotPop'].sum()\n",
    "        \n",
    "    return state_data"
   ]
  },
  {
   "cell_type": "code",
   "execution_count": 101,
   "metadata": {},
   "outputs": [],
   "source": [
    "us_state = get_state_data()"
   ]
  },
  {
   "cell_type": "code",
   "execution_count": 108,
   "metadata": {},
   "outputs": [
    {
     "name": "stdout",
     "output_type": "stream",
     "text": [
      "Complete CSA\n",
      "Complete CSA_Name\n",
      "Complete CBSA\n",
      "Complete CBSA_Name\n",
      "Complete AutoOwn0\n",
      "Complete AutoOwn1\n",
      "Complete AutoOwn2p\n",
      "Complete TotEmp\n",
      "Complete E_LowWageWk\n",
      "Complete E_MedWageWk\n",
      "Complete E_HiWageWk\n",
      "Complete D1B\n",
      "Complete D1C\n",
      "Complete D3A\n",
      "Complete D4A\n",
      "Complete D4B050\n",
      "Complete D4C\n",
      "Complete D4D\n",
      "Complete D5AR\n",
      "Complete D5AE\n",
      "Complete NatWalkInd\n",
      "Complete TotPop\n"
     ]
    }
   ],
   "source": [
    "for i in range(len(att_lst)-2):  # except for COUNTYID and GEOID\n",
    "    us_state = add_att_state(us_state, att_lst[i], type_lst[i])\n",
    "    print('Complete', att_lst[i])"
   ]
  },
  {
   "cell_type": "code",
   "execution_count": 109,
   "metadata": {},
   "outputs": [
    {
     "data": {
      "text/html": [
       "<div>\n",
       "<style scoped>\n",
       "    .dataframe tbody tr th:only-of-type {\n",
       "        vertical-align: middle;\n",
       "    }\n",
       "\n",
       "    .dataframe tbody tr th {\n",
       "        vertical-align: top;\n",
       "    }\n",
       "\n",
       "    .dataframe thead th {\n",
       "        text-align: right;\n",
       "    }\n",
       "</style>\n",
       "<table border=\"1\" class=\"dataframe\">\n",
       "  <thead>\n",
       "    <tr style=\"text-align: right;\">\n",
       "      <th></th>\n",
       "      <th>TotPop</th>\n",
       "      <th>STATEFP</th>\n",
       "      <th>geometry</th>\n",
       "      <th>CSA</th>\n",
       "      <th>CSA_Name</th>\n",
       "      <th>CBSA</th>\n",
       "      <th>CBSA_Name</th>\n",
       "      <th>AutoOwn0</th>\n",
       "      <th>AutoOwn1</th>\n",
       "      <th>AutoOwn2p</th>\n",
       "      <th>...</th>\n",
       "      <th>D1B</th>\n",
       "      <th>D1C</th>\n",
       "      <th>D3A</th>\n",
       "      <th>D4A</th>\n",
       "      <th>D4B050</th>\n",
       "      <th>D4C</th>\n",
       "      <th>D4D</th>\n",
       "      <th>D5AR</th>\n",
       "      <th>D5AE</th>\n",
       "      <th>NatWalkInd</th>\n",
       "    </tr>\n",
       "  </thead>\n",
       "  <tbody>\n",
       "    <tr>\n",
       "      <th>0</th>\n",
       "      <td>4864680</td>\n",
       "      <td>01</td>\n",
       "      <td>POLYGON ((-88.06069 30.14442, -88.06919 30.146...</td>\n",
       "      <td>142.0</td>\n",
       "      <td>Birmingham-Hoover-Talladega, AL</td>\n",
       "      <td>13820.0</td>\n",
       "      <td>Birmingham-Hoover, AL</td>\n",
       "      <td>115360</td>\n",
       "      <td>602858</td>\n",
       "      <td>1142051</td>\n",
       "      <td>...</td>\n",
       "      <td>1.884375</td>\n",
       "      <td>0.834243</td>\n",
       "      <td>9.141649</td>\n",
       "      <td>-85691.056591</td>\n",
       "      <td>0.0</td>\n",
       "      <td>-85891.734212</td>\n",
       "      <td>-85890.980826</td>\n",
       "      <td>80015382</td>\n",
       "      <td>58768634</td>\n",
       "      <td>6.8312</td>\n",
       "    </tr>\n",
       "    <tr>\n",
       "      <th>1</th>\n",
       "      <td>6946685</td>\n",
       "      <td>04</td>\n",
       "      <td>POLYGON ((-112.62491 31.82102, -112.62548 31.8...</td>\n",
       "      <td>429.0</td>\n",
       "      <td>Phoenix-Mesa, AZ</td>\n",
       "      <td>38060.0</td>\n",
       "      <td>Phoenix-Mesa-Chandler, AZ</td>\n",
       "      <td>160011</td>\n",
       "      <td>912818</td>\n",
       "      <td>1451471</td>\n",
       "      <td>...</td>\n",
       "      <td>7.143349</td>\n",
       "      <td>2.241679</td>\n",
       "      <td>17.872108</td>\n",
       "      <td>-45943.701668</td>\n",
       "      <td>0.026742</td>\n",
       "      <td>-39583.881192</td>\n",
       "      <td>-39569.96112</td>\n",
       "      <td>285956773</td>\n",
       "      <td>225138695</td>\n",
       "      <td>10.104197</td>\n",
       "    </tr>\n",
       "  </tbody>\n",
       "</table>\n",
       "<p>2 rows × 24 columns</p>\n",
       "</div>"
      ],
      "text/plain": [
       "    TotPop STATEFP                                           geometry    CSA  \\\n",
       "0  4864680      01  POLYGON ((-88.06069 30.14442, -88.06919 30.146...  142.0   \n",
       "1  6946685      04  POLYGON ((-112.62491 31.82102, -112.62548 31.8...  429.0   \n",
       "\n",
       "                          CSA_Name     CBSA                  CBSA_Name  \\\n",
       "0  Birmingham-Hoover-Talladega, AL  13820.0      Birmingham-Hoover, AL   \n",
       "1                 Phoenix-Mesa, AZ  38060.0  Phoenix-Mesa-Chandler, AZ   \n",
       "\n",
       "  AutoOwn0 AutoOwn1 AutoOwn2p  ...       D1B       D1C        D3A  \\\n",
       "0   115360   602858   1142051  ...  1.884375  0.834243   9.141649   \n",
       "1   160011   912818   1451471  ...  7.143349  2.241679  17.872108   \n",
       "\n",
       "            D4A    D4B050           D4C           D4D       D5AR       D5AE  \\\n",
       "0 -85691.056591       0.0 -85891.734212 -85890.980826   80015382   58768634   \n",
       "1 -45943.701668  0.026742 -39583.881192  -39569.96112  285956773  225138695   \n",
       "\n",
       "  NatWalkInd  \n",
       "0     6.8312  \n",
       "1  10.104197  \n",
       "\n",
       "[2 rows x 24 columns]"
      ]
     },
     "execution_count": 109,
     "metadata": {},
     "output_type": "execute_result"
    }
   ],
   "source": [
    "us_state.head(2)"
   ]
  },
  {
   "cell_type": "code",
   "execution_count": 125,
   "metadata": {},
   "outputs": [
    {
     "name": "stderr",
     "output_type": "stream",
     "text": [
      "/var/folders/6v/_k68w5jd2fjdr7stnfl1_q_c0000gn/T/ipykernel_7240/1310443233.py:1: UserWarning: Column names longer than 10 characters will be truncated when saved to ESRI Shapefile.\n",
      "  us_tract.fillna(0).to_file('./outputs/us_tract.shp', driver='ESRI Shapefile')\n",
      "/var/folders/6v/_k68w5jd2fjdr7stnfl1_q_c0000gn/T/ipykernel_7240/1310443233.py:2: UserWarning: Column names longer than 10 characters will be truncated when saved to ESRI Shapefile.\n",
      "  us_county.fillna(0).to_file('./outputs/us_county.shp', driver='ESRI Shapefile')\n",
      "/var/folders/6v/_k68w5jd2fjdr7stnfl1_q_c0000gn/T/ipykernel_7240/1310443233.py:3: UserWarning: Column names longer than 10 characters will be truncated when saved to ESRI Shapefile.\n",
      "  us_state.fillna(0).to_file('./outputs/us_state.shp', driver='ESRI Shapefile')\n"
     ]
    }
   ],
   "source": [
    "# us_tract.fillna(0).to_file('./data/us_tract.shp', driver='ESRI Shapefile')\n",
    "# us_county.fillna(0).to_file('./data/us_county.shp', driver='ESRI Shapefile')\n",
    "# us_state.fillna(0).to_file('./data/us_state.shp', driver='ESRI Shapefile')"
   ]
  }
 ],
 "metadata": {
  "colab": {
   "collapsed_sections": [],
   "include_colab_link": true,
   "name": "Data_Processing.ipynb",
   "provenance": []
  },
  "kernelspec": {
   "display_name": "bda_traff",
   "language": "python",
   "name": "bda_traff"
  },
  "language_info": {
   "codemirror_mode": {
    "name": "ipython",
    "version": 3
   },
   "file_extension": ".py",
   "mimetype": "text/x-python",
   "name": "python",
   "nbconvert_exporter": "python",
   "pygments_lexer": "ipython3",
   "version": "3.8.11"
  }
 },
 "nbformat": 4,
 "nbformat_minor": 1
}
