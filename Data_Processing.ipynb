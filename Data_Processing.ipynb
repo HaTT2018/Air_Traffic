{
  "nbformat": 4,
  "nbformat_minor": 0,
  "metadata": {
    "colab": {
      "name": "Data_Processing.ipynb",
      "provenance": [],
      "collapsed_sections": [],
      "include_colab_link": true
    },
    "kernelspec": {
      "name": "python3",
      "display_name": "Python 3"
    },
    "language_info": {
      "name": "python"
    }
  },
  "cells": [
    {
      "cell_type": "markdown",
      "metadata": {
        "id": "view-in-github",
        "colab_type": "text"
      },
      "source": [
        "<a href=\"https://colab.research.google.com/github/HaTT2018/Air_Traffic/blob/main/Data_Processing.ipynb\" target=\"_parent\"><img src=\"https://colab.research.google.com/assets/colab-badge.svg\" alt=\"Open In Colab\"/></a>"
      ]
    },
    {
      "cell_type": "markdown",
      "source": [
        "# Download Air Traffic Data and Import Basic Pkgs"
      ],
      "metadata": {
        "id": "x0EA_xf74GcJ"
      }
    },
    {
      "cell_type": "code",
      "source": [
        "!pip install -U --no-cache-dir gdown --pre\n",
        "!pip install ipdb"
      ],
      "metadata": {
        "id": "D2aDUamM38EN"
      },
      "execution_count": null,
      "outputs": []
    },
    {
      "cell_type": "code",
      "source": [
        "!gdown --id 12UB_JFNcH2-FTNVgcCcGQD5CD0zYcLUP --no-cookies\n",
        "!mkdir data\n",
        "!mv 718598182_T_DB1B_MARKET.csv ./data/718598182_T_DB1B_MARKET.csv"
      ],
      "metadata": {
        "id": "urPv5gmky48U"
      },
      "execution_count": null,
      "outputs": []
    },
    {
      "cell_type": "code",
      "source": [
        "import pandas as pd\n",
        "import numpy as np\n",
        "import matplotlib.pyplot as plt\n",
        "\n",
        "import ipdb"
      ],
      "metadata": {
        "id": "grlh8D_d56d6"
      },
      "execution_count": 16,
      "outputs": []
    },
    {
      "cell_type": "markdown",
      "source": [
        "# Load Data"
      ],
      "metadata": {
        "id": "6PIZGDkm4SqL"
      }
    },
    {
      "cell_type": "code",
      "source": [
        "data = pd.read_csv('./data/718598182_T_DB1B_MARKET.csv')"
      ],
      "metadata": {
        "id": "Mak0f3xs4QMA"
      },
      "execution_count": 19,
      "outputs": []
    },
    {
      "cell_type": "code",
      "source": [
        "data.head(2)"
      ],
      "metadata": {
        "colab": {
          "base_uri": "https://localhost:8080/",
          "height": 221
        },
        "id": "grIyTTPH7Gz9",
        "outputId": "613be7e3-4379-48c2-b0eb-73b9333ff808"
      },
      "execution_count": 21,
      "outputs": [
        {
          "output_type": "execute_result",
          "data": {
            "text/plain": [
              "   YEAR  QUARTER  ORIGIN_AIRPORT_ID  ORIGIN_AIRPORT_SEQ_ID  \\\n",
              "0  2021        1              11503                1150305   \n",
              "1  2021        1              12478                1247805   \n",
              "\n",
              "   ORIGIN_CITY_MARKET_ID ORIGIN ORIGIN_COUNTRY  ORIGIN_STATE_FIPS  \\\n",
              "0                  31503    EGE             US                  8   \n",
              "1                  31703    JFK             US                 36   \n",
              "\n",
              "  ORIGIN_STATE_ABR ORIGIN_STATE_NM  ...  DEST_COUNTRY  DEST_STATE_FIPS  \\\n",
              "0               CO        Colorado  ...            US               36   \n",
              "1               NY        New York  ...            US                8   \n",
              "\n",
              "   DEST_STATE_ABR  DEST_STATE_NM DEST_WAC PASSENGERS  MARKET_FARE  \\\n",
              "0              NY       New York       22        1.0        133.5   \n",
              "1              CO       Colorado       82        1.0        134.0   \n",
              "\n",
              "  MARKET_DISTANCE NONSTOP_MILES  Unnamed: 24  \n",
              "0          1746.0        1746.0          NaN  \n",
              "1          1746.0        1746.0          NaN  \n",
              "\n",
              "[2 rows x 25 columns]"
            ],
            "text/html": [
              "\n",
              "  <div id=\"df-e085fd31-1011-4ed7-bdad-73498f0a984f\">\n",
              "    <div class=\"colab-df-container\">\n",
              "      <div>\n",
              "<style scoped>\n",
              "    .dataframe tbody tr th:only-of-type {\n",
              "        vertical-align: middle;\n",
              "    }\n",
              "\n",
              "    .dataframe tbody tr th {\n",
              "        vertical-align: top;\n",
              "    }\n",
              "\n",
              "    .dataframe thead th {\n",
              "        text-align: right;\n",
              "    }\n",
              "</style>\n",
              "<table border=\"1\" class=\"dataframe\">\n",
              "  <thead>\n",
              "    <tr style=\"text-align: right;\">\n",
              "      <th></th>\n",
              "      <th>YEAR</th>\n",
              "      <th>QUARTER</th>\n",
              "      <th>ORIGIN_AIRPORT_ID</th>\n",
              "      <th>ORIGIN_AIRPORT_SEQ_ID</th>\n",
              "      <th>ORIGIN_CITY_MARKET_ID</th>\n",
              "      <th>ORIGIN</th>\n",
              "      <th>ORIGIN_COUNTRY</th>\n",
              "      <th>ORIGIN_STATE_FIPS</th>\n",
              "      <th>ORIGIN_STATE_ABR</th>\n",
              "      <th>ORIGIN_STATE_NM</th>\n",
              "      <th>...</th>\n",
              "      <th>DEST_COUNTRY</th>\n",
              "      <th>DEST_STATE_FIPS</th>\n",
              "      <th>DEST_STATE_ABR</th>\n",
              "      <th>DEST_STATE_NM</th>\n",
              "      <th>DEST_WAC</th>\n",
              "      <th>PASSENGERS</th>\n",
              "      <th>MARKET_FARE</th>\n",
              "      <th>MARKET_DISTANCE</th>\n",
              "      <th>NONSTOP_MILES</th>\n",
              "      <th>Unnamed: 24</th>\n",
              "    </tr>\n",
              "  </thead>\n",
              "  <tbody>\n",
              "    <tr>\n",
              "      <th>0</th>\n",
              "      <td>2021</td>\n",
              "      <td>1</td>\n",
              "      <td>11503</td>\n",
              "      <td>1150305</td>\n",
              "      <td>31503</td>\n",
              "      <td>EGE</td>\n",
              "      <td>US</td>\n",
              "      <td>8</td>\n",
              "      <td>CO</td>\n",
              "      <td>Colorado</td>\n",
              "      <td>...</td>\n",
              "      <td>US</td>\n",
              "      <td>36</td>\n",
              "      <td>NY</td>\n",
              "      <td>New York</td>\n",
              "      <td>22</td>\n",
              "      <td>1.0</td>\n",
              "      <td>133.5</td>\n",
              "      <td>1746.0</td>\n",
              "      <td>1746.0</td>\n",
              "      <td>NaN</td>\n",
              "    </tr>\n",
              "    <tr>\n",
              "      <th>1</th>\n",
              "      <td>2021</td>\n",
              "      <td>1</td>\n",
              "      <td>12478</td>\n",
              "      <td>1247805</td>\n",
              "      <td>31703</td>\n",
              "      <td>JFK</td>\n",
              "      <td>US</td>\n",
              "      <td>36</td>\n",
              "      <td>NY</td>\n",
              "      <td>New York</td>\n",
              "      <td>...</td>\n",
              "      <td>US</td>\n",
              "      <td>8</td>\n",
              "      <td>CO</td>\n",
              "      <td>Colorado</td>\n",
              "      <td>82</td>\n",
              "      <td>1.0</td>\n",
              "      <td>134.0</td>\n",
              "      <td>1746.0</td>\n",
              "      <td>1746.0</td>\n",
              "      <td>NaN</td>\n",
              "    </tr>\n",
              "  </tbody>\n",
              "</table>\n",
              "<p>2 rows × 25 columns</p>\n",
              "</div>\n",
              "      <button class=\"colab-df-convert\" onclick=\"convertToInteractive('df-e085fd31-1011-4ed7-bdad-73498f0a984f')\"\n",
              "              title=\"Convert this dataframe to an interactive table.\"\n",
              "              style=\"display:none;\">\n",
              "        \n",
              "  <svg xmlns=\"http://www.w3.org/2000/svg\" height=\"24px\"viewBox=\"0 0 24 24\"\n",
              "       width=\"24px\">\n",
              "    <path d=\"M0 0h24v24H0V0z\" fill=\"none\"/>\n",
              "    <path d=\"M18.56 5.44l.94 2.06.94-2.06 2.06-.94-2.06-.94-.94-2.06-.94 2.06-2.06.94zm-11 1L8.5 8.5l.94-2.06 2.06-.94-2.06-.94L8.5 2.5l-.94 2.06-2.06.94zm10 10l.94 2.06.94-2.06 2.06-.94-2.06-.94-.94-2.06-.94 2.06-2.06.94z\"/><path d=\"M17.41 7.96l-1.37-1.37c-.4-.4-.92-.59-1.43-.59-.52 0-1.04.2-1.43.59L10.3 9.45l-7.72 7.72c-.78.78-.78 2.05 0 2.83L4 21.41c.39.39.9.59 1.41.59.51 0 1.02-.2 1.41-.59l7.78-7.78 2.81-2.81c.8-.78.8-2.07 0-2.86zM5.41 20L4 18.59l7.72-7.72 1.47 1.35L5.41 20z\"/>\n",
              "  </svg>\n",
              "      </button>\n",
              "      \n",
              "  <style>\n",
              "    .colab-df-container {\n",
              "      display:flex;\n",
              "      flex-wrap:wrap;\n",
              "      gap: 12px;\n",
              "    }\n",
              "\n",
              "    .colab-df-convert {\n",
              "      background-color: #E8F0FE;\n",
              "      border: none;\n",
              "      border-radius: 50%;\n",
              "      cursor: pointer;\n",
              "      display: none;\n",
              "      fill: #1967D2;\n",
              "      height: 32px;\n",
              "      padding: 0 0 0 0;\n",
              "      width: 32px;\n",
              "    }\n",
              "\n",
              "    .colab-df-convert:hover {\n",
              "      background-color: #E2EBFA;\n",
              "      box-shadow: 0px 1px 2px rgba(60, 64, 67, 0.3), 0px 1px 3px 1px rgba(60, 64, 67, 0.15);\n",
              "      fill: #174EA6;\n",
              "    }\n",
              "\n",
              "    [theme=dark] .colab-df-convert {\n",
              "      background-color: #3B4455;\n",
              "      fill: #D2E3FC;\n",
              "    }\n",
              "\n",
              "    [theme=dark] .colab-df-convert:hover {\n",
              "      background-color: #434B5C;\n",
              "      box-shadow: 0px 1px 3px 1px rgba(0, 0, 0, 0.15);\n",
              "      filter: drop-shadow(0px 1px 2px rgba(0, 0, 0, 0.3));\n",
              "      fill: #FFFFFF;\n",
              "    }\n",
              "  </style>\n",
              "\n",
              "      <script>\n",
              "        const buttonEl =\n",
              "          document.querySelector('#df-e085fd31-1011-4ed7-bdad-73498f0a984f button.colab-df-convert');\n",
              "        buttonEl.style.display =\n",
              "          google.colab.kernel.accessAllowed ? 'block' : 'none';\n",
              "\n",
              "        async function convertToInteractive(key) {\n",
              "          const element = document.querySelector('#df-e085fd31-1011-4ed7-bdad-73498f0a984f');\n",
              "          const dataTable =\n",
              "            await google.colab.kernel.invokeFunction('convertToInteractive',\n",
              "                                                     [key], {});\n",
              "          if (!dataTable) return;\n",
              "\n",
              "          const docLinkHtml = 'Like what you see? Visit the ' +\n",
              "            '<a target=\"_blank\" href=https://colab.research.google.com/notebooks/data_table.ipynb>data table notebook</a>'\n",
              "            + ' to learn more about interactive tables.';\n",
              "          element.innerHTML = '';\n",
              "          dataTable['output_type'] = 'display_data';\n",
              "          await google.colab.output.renderOutput(dataTable, element);\n",
              "          const docLink = document.createElement('div');\n",
              "          docLink.innerHTML = docLinkHtml;\n",
              "          element.appendChild(docLink);\n",
              "        }\n",
              "      </script>\n",
              "    </div>\n",
              "  </div>\n",
              "  "
            ]
          },
          "metadata": {},
          "execution_count": 21
        }
      ]
    },
    {
      "cell_type": "code",
      "source": [
        ""
      ],
      "metadata": {
        "id": "iLLZUJ5Q7JW4"
      },
      "execution_count": null,
      "outputs": []
    }
  ]
}