{
  "cells": [
    {
      "cell_type": "markdown",
      "metadata": {
        "id": "view-in-github",
        "colab_type": "text"
      },
      "source": [
        "<a href=\"https://colab.research.google.com/github/HaTT2018/Air_Traffic/blob/main/Data_Processing.ipynb\" target=\"_parent\"><img src=\"https://colab.research.google.com/assets/colab-badge.svg\" alt=\"Open In Colab\"/></a>"
      ]
    },
    {
      "cell_type": "markdown",
      "metadata": {
        "id": "x0EA_xf74GcJ"
      },
      "source": [
        "# Download Air Traffic Data and Import Basic Pkgs"
      ]
    },
    {
      "cell_type": "code",
      "execution_count": null,
      "metadata": {
        "id": "D2aDUamM38EN"
      },
      "outputs": [],
      "source": [
        "!pip install -U --no-cache-dir gdown --pre\n",
        "!pip install ipdb"
      ]
    },
    {
      "cell_type": "code",
      "execution_count": null,
      "metadata": {
        "id": "urPv5gmky48U"
      },
      "outputs": [],
      "source": [
        "!gdown --id 12UB_JFNcH2-FTNVgcCcGQD5CD0zYcLUP --no-cookies\n",
        "!gdown --id 16wihT95GszfotQKv-a7xY6JEWk1abdI3 --no-cookies\n",
        "!mkdir data\n",
        "!mv 718598182_T_DB1B_MARKET.csv ./data/718598182_T_DB1B_MARKET.csv\n",
        "!mv 'Smart Location Data Export.csv' './data/Smart Location Data Export.csv'"
      ]
    },
    {
      "cell_type": "code",
      "execution_count": null,
      "metadata": {
        "id": "grlh8D_d56d6"
      },
      "outputs": [],
      "source": [
        "import pandas as pd\n",
        "import numpy as np\n",
        "import matplotlib.pyplot as plt\n",
        "\n",
        "import ipdb"
      ]
    },
    {
      "cell_type": "markdown",
      "metadata": {
        "id": "6PIZGDkm4SqL"
      },
      "source": [
        "# Load Data"
      ]
    },
    {
      "cell_type": "code",
      "execution_count": null,
      "metadata": {
        "id": "Mak0f3xs4QMA"
      },
      "outputs": [],
      "source": [
        "data = pd.read_csv('./data/718598182_T_DB1B_MARKET.csv')"
      ]
    },
    {
      "cell_type": "code",
      "execution_count": null,
      "metadata": {
        "colab": {
          "base_uri": "https://localhost:8080/",
          "height": 221
        },
        "id": "grIyTTPH7Gz9",
        "outputId": "613be7e3-4379-48c2-b0eb-73b9333ff808"
      },
      "outputs": [
        {
          "data": {
            "text/html": [
              "<div>\n",
              "<style scoped>\n",
              "    .dataframe tbody tr th:only-of-type {\n",
              "        vertical-align: middle;\n",
              "    }\n",
              "\n",
              "    .dataframe tbody tr th {\n",
              "        vertical-align: top;\n",
              "    }\n",
              "\n",
              "    .dataframe thead th {\n",
              "        text-align: right;\n",
              "    }\n",
              "</style>\n",
              "<table border=\"1\" class=\"dataframe\">\n",
              "  <thead>\n",
              "    <tr style=\"text-align: right;\">\n",
              "      <th></th>\n",
              "      <th>YEAR</th>\n",
              "      <th>QUARTER</th>\n",
              "      <th>ORIGIN_AIRPORT_ID</th>\n",
              "      <th>ORIGIN_AIRPORT_SEQ_ID</th>\n",
              "      <th>ORIGIN_CITY_MARKET_ID</th>\n",
              "      <th>ORIGIN</th>\n",
              "      <th>ORIGIN_COUNTRY</th>\n",
              "      <th>ORIGIN_STATE_FIPS</th>\n",
              "      <th>ORIGIN_STATE_ABR</th>\n",
              "      <th>ORIGIN_STATE_NM</th>\n",
              "      <th>...</th>\n",
              "      <th>DEST_COUNTRY</th>\n",
              "      <th>DEST_STATE_FIPS</th>\n",
              "      <th>DEST_STATE_ABR</th>\n",
              "      <th>DEST_STATE_NM</th>\n",
              "      <th>DEST_WAC</th>\n",
              "      <th>PASSENGERS</th>\n",
              "      <th>MARKET_FARE</th>\n",
              "      <th>MARKET_DISTANCE</th>\n",
              "      <th>NONSTOP_MILES</th>\n",
              "      <th>Unnamed: 24</th>\n",
              "    </tr>\n",
              "  </thead>\n",
              "  <tbody>\n",
              "    <tr>\n",
              "      <th>0</th>\n",
              "      <td>2021</td>\n",
              "      <td>1</td>\n",
              "      <td>11503</td>\n",
              "      <td>1150305</td>\n",
              "      <td>31503</td>\n",
              "      <td>EGE</td>\n",
              "      <td>US</td>\n",
              "      <td>8</td>\n",
              "      <td>CO</td>\n",
              "      <td>Colorado</td>\n",
              "      <td>...</td>\n",
              "      <td>US</td>\n",
              "      <td>36</td>\n",
              "      <td>NY</td>\n",
              "      <td>New York</td>\n",
              "      <td>22</td>\n",
              "      <td>1.0</td>\n",
              "      <td>133.5</td>\n",
              "      <td>1746.0</td>\n",
              "      <td>1746.0</td>\n",
              "      <td>NaN</td>\n",
              "    </tr>\n",
              "    <tr>\n",
              "      <th>1</th>\n",
              "      <td>2021</td>\n",
              "      <td>1</td>\n",
              "      <td>12478</td>\n",
              "      <td>1247805</td>\n",
              "      <td>31703</td>\n",
              "      <td>JFK</td>\n",
              "      <td>US</td>\n",
              "      <td>36</td>\n",
              "      <td>NY</td>\n",
              "      <td>New York</td>\n",
              "      <td>...</td>\n",
              "      <td>US</td>\n",
              "      <td>8</td>\n",
              "      <td>CO</td>\n",
              "      <td>Colorado</td>\n",
              "      <td>82</td>\n",
              "      <td>1.0</td>\n",
              "      <td>134.0</td>\n",
              "      <td>1746.0</td>\n",
              "      <td>1746.0</td>\n",
              "      <td>NaN</td>\n",
              "    </tr>\n",
              "  </tbody>\n",
              "</table>\n",
              "<p>2 rows × 25 columns</p>\n",
              "</div>"
            ],
            "text/plain": [
              "   YEAR  QUARTER  ORIGIN_AIRPORT_ID  ORIGIN_AIRPORT_SEQ_ID  \\\n",
              "0  2021        1              11503                1150305   \n",
              "1  2021        1              12478                1247805   \n",
              "\n",
              "   ORIGIN_CITY_MARKET_ID ORIGIN ORIGIN_COUNTRY  ORIGIN_STATE_FIPS  \\\n",
              "0                  31503    EGE             US                  8   \n",
              "1                  31703    JFK             US                 36   \n",
              "\n",
              "  ORIGIN_STATE_ABR ORIGIN_STATE_NM  ...  DEST_COUNTRY  DEST_STATE_FIPS  \\\n",
              "0               CO        Colorado  ...            US               36   \n",
              "1               NY        New York  ...            US                8   \n",
              "\n",
              "   DEST_STATE_ABR  DEST_STATE_NM DEST_WAC PASSENGERS  MARKET_FARE  \\\n",
              "0              NY       New York       22        1.0        133.5   \n",
              "1              CO       Colorado       82        1.0        134.0   \n",
              "\n",
              "  MARKET_DISTANCE NONSTOP_MILES  Unnamed: 24  \n",
              "0          1746.0        1746.0          NaN  \n",
              "1          1746.0        1746.0          NaN  \n",
              "\n",
              "[2 rows x 25 columns]"
            ]
          },
          "execution_count": 5,
          "metadata": {},
          "output_type": "execute_result"
        }
      ],
      "source": [
        "data.head(2)"
      ]
    },
    {
      "cell_type": "code",
      "execution_count": null,
      "metadata": {
        "id": "iLLZUJ5Q7JW4"
      },
      "outputs": [],
      "source": [
        ""
      ]
    }
  ],
  "metadata": {
    "colab": {
      "collapsed_sections": [],
      "name": "Data_Processing.ipynb",
      "provenance": [],
      "include_colab_link": true
    },
    "kernelspec": {
      "display_name": "Python 3 (ipykernel)",
      "language": "python",
      "name": "python3"
    },
    "language_info": {
      "codemirror_mode": {
        "name": "ipython",
        "version": 3
      },
      "file_extension": ".py",
      "mimetype": "text/x-python",
      "name": "python",
      "nbconvert_exporter": "python",
      "pygments_lexer": "ipython3",
      "version": "3.8.11"
    }
  },
  "nbformat": 4,
  "nbformat_minor": 0
}