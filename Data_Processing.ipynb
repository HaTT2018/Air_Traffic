{
 "cells": [
  {
   "cell_type": "code",
   "execution_count": 52,
   "metadata": {
    "id": "grlh8D_d56d6"
   },
   "outputs": [],
   "source": [
    "import pandas as pd\n",
    "import numpy as np\n",
    "import matplotlib.pyplot as plt\n",
    "\n",
    "import ipdb"
   ]
  },
  {
   "cell_type": "markdown",
   "metadata": {
    "id": "6PIZGDkm4SqL"
   },
   "source": [
    "# Load Data"
   ]
  },
  {
   "cell_type": "code",
   "execution_count": 3,
   "metadata": {
    "id": "iLLZUJ5Q7JW4"
   },
   "outputs": [],
   "source": [
    "sl_data = pd.read_csv('./data/Smart Location Data Export.csv')"
   ]
  },
  {
   "cell_type": "code",
   "execution_count": 4,
   "metadata": {},
   "outputs": [
    {
     "data": {
      "text/html": [
       "<div>\n",
       "<style scoped>\n",
       "    .dataframe tbody tr th:only-of-type {\n",
       "        vertical-align: middle;\n",
       "    }\n",
       "\n",
       "    .dataframe tbody tr th {\n",
       "        vertical-align: top;\n",
       "    }\n",
       "\n",
       "    .dataframe thead th {\n",
       "        text-align: right;\n",
       "    }\n",
       "</style>\n",
       "<table border=\"1\" class=\"dataframe\">\n",
       "  <thead>\n",
       "    <tr style=\"text-align: right;\">\n",
       "      <th></th>\n",
       "      <th>OBJECTID</th>\n",
       "      <th>GEOID10</th>\n",
       "      <th>GEOID20</th>\n",
       "      <th>STATEFP</th>\n",
       "      <th>COUNTYFP</th>\n",
       "      <th>TRACTCE</th>\n",
       "      <th>BLKGRPCE</th>\n",
       "      <th>CSA</th>\n",
       "      <th>CSA_Name</th>\n",
       "      <th>CBSA</th>\n",
       "      <th>...</th>\n",
       "      <th>Com_VMT_Per_Worker</th>\n",
       "      <th>VMT_per_worker</th>\n",
       "      <th>VMT_tot_min</th>\n",
       "      <th>VMT_tot_max</th>\n",
       "      <th>VMT_tot_avg</th>\n",
       "      <th>GHG_per_worker</th>\n",
       "      <th>Annual_GHG</th>\n",
       "      <th>SLC_score</th>\n",
       "      <th>Shape_Length</th>\n",
       "      <th>Shape_Area</th>\n",
       "    </tr>\n",
       "  </thead>\n",
       "  <tbody>\n",
       "    <tr>\n",
       "      <th>0</th>\n",
       "      <td>1</td>\n",
       "      <td>481130078254</td>\n",
       "      <td>481130078254</td>\n",
       "      <td>48</td>\n",
       "      <td>113</td>\n",
       "      <td>7825</td>\n",
       "      <td>4</td>\n",
       "      <td>206.0</td>\n",
       "      <td>Dallas-Fort Worth, TX-OK</td>\n",
       "      <td>19100.0</td>\n",
       "      <td>...</td>\n",
       "      <td>21.688738</td>\n",
       "      <td>27.496405</td>\n",
       "      <td>11.442995</td>\n",
       "      <td>82.636303</td>\n",
       "      <td>25.659327</td>\n",
       "      <td>24.499297</td>\n",
       "      <td>6369.817221</td>\n",
       "      <td>77.450956</td>\n",
       "      <td>3110.36082</td>\n",
       "      <td>297836.0831</td>\n",
       "    </tr>\n",
       "    <tr>\n",
       "      <th>1</th>\n",
       "      <td>2</td>\n",
       "      <td>481130078252</td>\n",
       "      <td>481130078252</td>\n",
       "      <td>48</td>\n",
       "      <td>113</td>\n",
       "      <td>7825</td>\n",
       "      <td>2</td>\n",
       "      <td>206.0</td>\n",
       "      <td>Dallas-Fort Worth, TX-OK</td>\n",
       "      <td>19100.0</td>\n",
       "      <td>...</td>\n",
       "      <td>21.379832</td>\n",
       "      <td>26.465754</td>\n",
       "      <td>11.442995</td>\n",
       "      <td>82.636303</td>\n",
       "      <td>25.659327</td>\n",
       "      <td>23.580987</td>\n",
       "      <td>6131.056669</td>\n",
       "      <td>78.898635</td>\n",
       "      <td>3519.46911</td>\n",
       "      <td>484945.1466</td>\n",
       "    </tr>\n",
       "  </tbody>\n",
       "</table>\n",
       "<p>2 rows × 182 columns</p>\n",
       "</div>"
      ],
      "text/plain": [
       "   OBJECTID       GEOID10       GEOID20  STATEFP  COUNTYFP  TRACTCE  BLKGRPCE  \\\n",
       "0         1  481130078254  481130078254       48       113     7825         4   \n",
       "1         2  481130078252  481130078252       48       113     7825         2   \n",
       "\n",
       "     CSA                  CSA_Name     CBSA  ... Com_VMT_Per_Worker  \\\n",
       "0  206.0  Dallas-Fort Worth, TX-OK  19100.0  ...          21.688738   \n",
       "1  206.0  Dallas-Fort Worth, TX-OK  19100.0  ...          21.379832   \n",
       "\n",
       "   VMT_per_worker  VMT_tot_min  VMT_tot_max  VMT_tot_avg  GHG_per_worker  \\\n",
       "0       27.496405    11.442995    82.636303    25.659327       24.499297   \n",
       "1       26.465754    11.442995    82.636303    25.659327       23.580987   \n",
       "\n",
       "    Annual_GHG  SLC_score  Shape_Length   Shape_Area  \n",
       "0  6369.817221  77.450956    3110.36082  297836.0831  \n",
       "1  6131.056669  78.898635    3519.46911  484945.1466  \n",
       "\n",
       "[2 rows x 182 columns]"
      ]
     },
     "execution_count": 4,
     "metadata": {},
     "output_type": "execute_result"
    }
   ],
   "source": [
    "sl_data.head(2)"
   ]
  },
  {
   "cell_type": "code",
   "execution_count": 15,
   "metadata": {},
   "outputs": [],
   "source": [
    "# completed by code \"OD_batch.py\""
   ]
  },
  {
   "cell_type": "code",
   "execution_count": null,
   "metadata": {},
   "outputs": [],
   "source": []
  },
  {
   "cell_type": "code",
   "execution_count": null,
   "metadata": {},
   "outputs": [],
   "source": []
  },
  {
   "cell_type": "code",
   "execution_count": null,
   "metadata": {},
   "outputs": [],
   "source": []
  },
  {
   "cell_type": "code",
   "execution_count": null,
   "metadata": {},
   "outputs": [],
   "source": []
  }
 ],
 "metadata": {
  "colab": {
   "collapsed_sections": [],
   "include_colab_link": true,
   "name": "Data_Processing.ipynb",
   "provenance": []
  },
  "kernelspec": {
   "display_name": "bda_traff",
   "language": "python",
   "name": "bda_traff"
  },
  "language_info": {
   "codemirror_mode": {
    "name": "ipython",
    "version": 3
   },
   "file_extension": ".py",
   "mimetype": "text/x-python",
   "name": "python",
   "nbconvert_exporter": "python",
   "pygments_lexer": "ipython3",
   "version": "3.8.11"
  }
 },
 "nbformat": 4,
 "nbformat_minor": 1
}
